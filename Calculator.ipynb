{
 "cells": [
  {
   "cell_type": "code",
   "execution_count": 8,
   "id": "7073e657-226c-4125-ab35-d7c78768f4e2",
   "metadata": {},
   "outputs": [
    {
     "name": "stdin",
     "output_type": "stream",
     "text": [
      "Enter the first number:  7\n",
      "Enter the second number:  8\n",
      "Enter the operation (add, subtract, multiply, divide):  add\n"
     ]
    },
    {
     "name": "stdout",
     "output_type": "stream",
     "text": [
      "The result is: 15.0\n"
     ]
    }
   ],
   "source": [
    "def add(x, y):\n",
    "    return x + y\n",
    "\n",
    "def subtract(x, y):\n",
    "    return x - y\n",
    "\n",
    "def multiply(x, y):\n",
    "    return x * y\n",
    "\n",
    "def divide(x, y):\n",
    "    if y == 0:\n",
    "        raise ValueError(\"Cannot divide by zero!\")\n",
    "    return x / y\n",
    "\n",
    "def main():\n",
    "    # Take input from the user\n",
    "    x = float(input(\"Enter the first number: \"))\n",
    "    y = float(input(\"Enter the second number: \"))\n",
    "    operation = input(\"Enter the operation (add, subtract, multiply, divide): \").lower()\n",
    "\n",
    "    # Perform the operation based on user input\n",
    "    if operation == 'add':\n",
    "        result = add(x, y)\n",
    "    elif operation == 'subtract':\n",
    "        result = subtract(x, y)\n",
    "    elif operation == 'multiply':\n",
    "        result = multiply(x, y)\n",
    "    elif operation == 'divide':\n",
    "        result = divide(x, y)\n",
    "    else:\n",
    "        print(\"Invalid operation. Please choose from add, subtract, multiply, or divide.\")\n",
    "        return\n",
    "\n",
    "    print(f'The result is: {result}')\n",
    "\n",
    "if __name__ == '__main__':\n",
    "    main()\n"
   ]
  },
  {
   "cell_type": "code",
   "execution_count": null,
   "id": "59a031e2-1fa3-4bc7-be6c-c1dc788d23fc",
   "metadata": {},
   "outputs": [],
   "source": []
  }
 ],
 "metadata": {
  "kernelspec": {
   "display_name": "Python 3 (ipykernel)",
   "language": "python",
   "name": "python3"
  },
  "language_info": {
   "codemirror_mode": {
    "name": "ipython",
    "version": 3
   },
   "file_extension": ".py",
   "mimetype": "text/x-python",
   "name": "python",
   "nbconvert_exporter": "python",
   "pygments_lexer": "ipython3",
   "version": "3.12.7"
  }
 },
 "nbformat": 4,
 "nbformat_minor": 5
}
