{
 "cells": [
  {
   "cell_type": "code",
   "execution_count": 1,
   "id": "ccdc0a1f-9f07-4882-9b3a-55b2c28bafbf",
   "metadata": {},
   "outputs": [
    {
     "name": "stdout",
     "output_type": "stream",
     "text": [
      "\n",
      "Simulating a Do-While loop in Python\n"
     ]
    },
    {
     "name": "stdin",
     "output_type": "stream",
     "text": [
      "Enter a positive number (or a negative number to exit):  5\n"
     ]
    },
    {
     "name": "stdout",
     "output_type": "stream",
     "text": [
      "You entered: 5\n",
      "Great! You entered a positive number. Let's continue...\n",
      "\n"
     ]
    },
    {
     "name": "stdin",
     "output_type": "stream",
     "text": [
      "Enter a positive number (or a negative number to exit):  -5\n"
     ]
    },
    {
     "name": "stdout",
     "output_type": "stream",
     "text": [
      "You entered: -5\n",
      "Negative number detected! Exiting the loop...\n",
      "Loop terminated. Thank you for using the program!\n"
     ]
    }
   ],
   "source": [
    "# Simulating a Do-While loop in Python\n",
    "\n",
    "# In Python, there is no built-in do-while loop like in other languages (C, C++, Java).\n",
    "# However, we can achieve similar functionality using a while loop with a condition \n",
    "# that ensures the loop runs at least once.\n",
    "\n",
    "print(\"\\nSimulating a Do-While loop in Python\")\n",
    "\n",
    "while True:  # This creates an infinite loop, similar to a do-while structure\n",
    "    try:\n",
    "        # Asking the user for input\n",
    "        number = int(input(\"Enter a positive number (or a negative number to exit): \"))\n",
    "        print(\"You entered:\", number)\n",
    "\n",
    "        # If the user enters a negative number, we break out of the loop\n",
    "        if number < 0:\n",
    "            print(\"Negative number detected! Exiting the loop...\")\n",
    "            break  # Terminates the loop\n",
    "        \n",
    "        # If the user enters a non-negative number, the loop continues\n",
    "        print(\"Great! You entered a positive number. Let's continue...\\n\")\n",
    "\n",
    "    except ValueError:\n",
    "        # Handling non-integer inputs to prevent errors\n",
    "        print(\"Invalid input! Please enter a valid integer.\\n\")\n",
    "\n",
    "# Final message after exiting the loop\n",
    "print(\"Loop terminated. Thank you for using the program!\")\n"
   ]
  },
  {
   "cell_type": "code",
   "execution_count": null,
   "id": "21a7633d-4c63-4579-8ecf-e39490f28120",
   "metadata": {},
   "outputs": [],
   "source": []
  }
 ],
 "metadata": {
  "kernelspec": {
   "display_name": "Python 3 (ipykernel)",
   "language": "python",
   "name": "python3"
  },
  "language_info": {
   "codemirror_mode": {
    "name": "ipython",
    "version": 3
   },
   "file_extension": ".py",
   "mimetype": "text/x-python",
   "name": "python",
   "nbconvert_exporter": "python",
   "pygments_lexer": "ipython3",
   "version": "3.12.7"
  }
 },
 "nbformat": 4,
 "nbformat_minor": 5
}
