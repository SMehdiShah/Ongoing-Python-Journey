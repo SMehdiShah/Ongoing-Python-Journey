{
 "cells": [
  {
   "cell_type": "code",
   "execution_count": 1,
   "id": "6536c4fe-7ca5-4cb0-ae30-bdd00e429821",
   "metadata": {},
   "outputs": [
    {
     "name": "stdout",
     "output_type": "stream",
     "text": [
      "Multiplication table of 5:\n",
      "5 x 0 = 0\n",
      "5 x 1 = 5\n",
      "5 x 2 = 10\n",
      "5 x 3 = 15\n",
      "5 x 4 = 20\n",
      "5 x 5 = 25\n",
      "5 x 6 = 30\n",
      "5 x 7 = 35\n",
      "5 x 8 = 40\n",
      "5 x 9 = 45\n",
      "5 x 10 = 50\n",
      "5 x 11 = 55\n",
      "5 x 12 = 60\n",
      "5 x 13 = 65\n",
      "5 x 14 = 70\n",
      "\n",
      "\n",
      "Multiplication table of 5 with a break statement:\n",
      "5 x 0 = 0\n",
      "5 x 1 = 5\n",
      "5 x 2 = 10\n",
      "5 x 3 = 15\n",
      "5 x 4 = 20\n",
      "5 x 5 = 25\n",
      "5 x 6 = 30\n",
      "5 x 7 = 35\n",
      "5 x 8 = 40\n",
      "5 x 9 = 45\n",
      "I left the loop\n",
      "\n",
      "\n",
      "Multiplication table of 5 with a continue statement:\n",
      "5 x 0 = 0\n",
      "5 x 1 = 5\n",
      "5 x 2 = 10\n",
      "5 x 3 = 15\n",
      "5 x 4 = 20\n",
      "5 x 5 = 25\n",
      "5 x 6 = 30\n",
      "5 x 7 = 35\n",
      "5 x 8 = 40\n",
      "5 x 9 = 45\n",
      "5 x 11 = 55\n",
      "5 x 12 = 60\n",
      "5 x 13 = 65\n",
      "5 x 14 = 70\n",
      "I left the iteration of i=10 and again started the loop\n"
     ]
    }
   ],
   "source": [
    "# Program to demonstrate loops, break, and continue statements in Python\n",
    "\n",
    "# 1. Basic loop to print the multiplication table of 5 up to 14\n",
    "print(\"Multiplication table of 5:\")\n",
    "for i in range(15):  # Loop runs from 0 to 14\n",
    "    print(\"5 x\", i, \"=\", 5 * i)  \n",
    "print(\"\\n\")  \n",
    "\n",
    "\n",
    "# 2. Using 'break' to exit the loop prematurely\n",
    "print(\"Multiplication table of 5 with a break statement:\")\n",
    "for i in range(15):  \n",
    "    if i == 10:  # When i reaches 10, the loop will terminate\n",
    "        break  # Exit the loop immediately\n",
    "    print(\"5 x\", i, \"=\", 5 * i)  \n",
    "print(\"I left the loop\")  # This statement is executed after exiting the loop\n",
    "print(\"\\n\")  \n",
    "\n",
    "\n",
    "# 3. Using 'continue' to skip a specific iteration\n",
    "print(\"Multiplication table of 5 with a continue statement:\")\n",
    "for i in range(15):  \n",
    "    if i == 10:  # When i reaches 10, this iteration will be skipped\n",
    "        continue  # Skip the current iteration and move to the next one\n",
    "    print(\"5 x\", i, \"=\", 5 * i)  \n",
    "print(\"I left the iteration of i=10 and again started the loop\")  \n"
   ]
  },
  {
   "cell_type": "code",
   "execution_count": null,
   "id": "af793b0d-9efa-42fb-a708-39c1b26c602a",
   "metadata": {},
   "outputs": [],
   "source": []
  }
 ],
 "metadata": {
  "kernelspec": {
   "display_name": "Python 3 (ipykernel)",
   "language": "python",
   "name": "python3"
  },
  "language_info": {
   "codemirror_mode": {
    "name": "ipython",
    "version": 3
   },
   "file_extension": ".py",
   "mimetype": "text/x-python",
   "name": "python",
   "nbconvert_exporter": "python",
   "pygments_lexer": "ipython3",
   "version": "3.12.7"
  }
 },
 "nbformat": 4,
 "nbformat_minor": 5
}
